{
 "cells": [
  {
   "cell_type": "code",
   "execution_count": 1,
   "id": "1624f870",
   "metadata": {},
   "outputs": [],
   "source": [
    "import pandas as pd\n",
    "import numpy as np"
   ]
  },
  {
   "cell_type": "code",
   "execution_count": 2,
   "id": "bb96c39b",
   "metadata": {},
   "outputs": [
    {
     "name": "stdout",
     "output_type": "stream",
     "text": [
      "<class 'pandas.core.frame.DataFrame'>\n",
      "RangeIndex: 9704 entries, 0 to 9703\n",
      "Data columns (total 11 columns):\n",
      " #   Column               Non-Null Count  Dtype  \n",
      "---  ------               --------------  -----  \n",
      " 0   engine_displacement  9704 non-null   int64  \n",
      " 1   num_cylinders        9222 non-null   float64\n",
      " 2   horsepower           8996 non-null   float64\n",
      " 3   vehicle_weight       9704 non-null   float64\n",
      " 4   acceleration         8774 non-null   float64\n",
      " 5   model_year           9704 non-null   int64  \n",
      " 6   origin               9704 non-null   object \n",
      " 7   fuel_type            9704 non-null   object \n",
      " 8   drivetrain           9704 non-null   object \n",
      " 9   num_doors            9202 non-null   float64\n",
      " 10  fuel_efficiency_mpg  9704 non-null   float64\n",
      "dtypes: float64(6), int64(2), object(3)\n",
      "memory usage: 834.1+ KB\n"
     ]
    }
   ],
   "source": [
    "df = pd.read_csv('car_fuel_efficiency.csv')\n",
    "df.info()"
   ]
  },
  {
   "cell_type": "code",
   "execution_count": 3,
   "id": "06286e68",
   "metadata": {},
   "outputs": [
    {
     "name": "stdout",
     "output_type": "stream",
     "text": [
      "Filtered dataset shape: (9704, 5)\n",
      "\n",
      "Filtered dataset info:\n",
      "<class 'pandas.core.frame.DataFrame'>\n",
      "RangeIndex: 9704 entries, 0 to 9703\n",
      "Data columns (total 5 columns):\n",
      " #   Column               Non-Null Count  Dtype  \n",
      "---  ------               --------------  -----  \n",
      " 0   engine_displacement  9704 non-null   int64  \n",
      " 1   horsepower           8996 non-null   float64\n",
      " 2   vehicle_weight       9704 non-null   float64\n",
      " 3   model_year           9704 non-null   int64  \n",
      " 4   fuel_efficiency_mpg  9704 non-null   float64\n",
      "dtypes: float64(3), int64(2)\n",
      "memory usage: 379.2 KB\n"
     ]
    }
   ],
   "source": [
    "# Prepare the dataset - select only the required columns\n",
    "required_columns = ['engine_displacement', 'horsepower', 'vehicle_weight', 'model_year', 'fuel_efficiency_mpg']\n",
    "df_filtered = df[required_columns].copy()\n",
    "\n",
    "print(\"Filtered dataset shape:\", df_filtered.shape)\n",
    "print(\"\\nFiltered dataset info:\")\n",
    "df_filtered.info()\n"
   ]
  },
  {
   "cell_type": "code",
   "execution_count": 4,
   "id": "a61f3037",
   "metadata": {},
   "outputs": [
    {
     "name": "stdout",
     "output_type": "stream",
     "text": [
      "First 10 rows of filtered dataset:\n"
     ]
    },
    {
     "data": {
      "application/vnd.microsoft.datawrangler.viewer.v0+json": {
       "columns": [
        {
         "name": "index",
         "rawType": "int64",
         "type": "integer"
        },
        {
         "name": "engine_displacement",
         "rawType": "int64",
         "type": "integer"
        },
        {
         "name": "horsepower",
         "rawType": "float64",
         "type": "float"
        },
        {
         "name": "vehicle_weight",
         "rawType": "float64",
         "type": "float"
        },
        {
         "name": "model_year",
         "rawType": "int64",
         "type": "integer"
        },
        {
         "name": "fuel_efficiency_mpg",
         "rawType": "float64",
         "type": "float"
        }
       ],
       "ref": "e21891f6-53ff-4664-8a5c-881f112feb0c",
       "rows": [
        [
         "0",
         "170",
         "159.0",
         "3413.433758606219",
         "2003",
         "13.231728906241411"
        ],
        [
         "1",
         "130",
         "97.0",
         "3149.664934220036",
         "2007",
         "13.688217435463793"
        ],
        [
         "2",
         "170",
         "78.0",
         "3079.03899736884",
         "2018",
         "14.246340998160866"
        ],
        [
         "3",
         "220",
         null,
         "2542.392401828378",
         "2009",
         "16.91273559598635"
        ],
        [
         "4",
         "210",
         "140.0",
         "3460.870989989018",
         "2009",
         "12.488369121964562"
        ],
        [
         "5",
         "190",
         null,
         "2484.883986036068",
         "2008",
         "17.271818372724237"
        ],
        [
         "6",
         "240",
         "127.0",
         "3006.5422872171457",
         "2012",
         "13.210412112385608"
        ],
        [
         "7",
         "150",
         "239.0",
         "3638.6577802809",
         "2020",
         "12.848883861524026"
        ],
        [
         "8",
         "250",
         "174.0",
         "2714.219309645285",
         "2016",
         "16.823553726916543"
        ],
        [
         "9",
         "150",
         "123.0",
         "3509.036569100613",
         "2005",
         "12.298354983681604"
        ]
       ],
       "shape": {
        "columns": 5,
        "rows": 10
       }
      },
      "text/html": [
       "<div>\n",
       "<style scoped>\n",
       "    .dataframe tbody tr th:only-of-type {\n",
       "        vertical-align: middle;\n",
       "    }\n",
       "\n",
       "    .dataframe tbody tr th {\n",
       "        vertical-align: top;\n",
       "    }\n",
       "\n",
       "    .dataframe thead th {\n",
       "        text-align: right;\n",
       "    }\n",
       "</style>\n",
       "<table border=\"1\" class=\"dataframe\">\n",
       "  <thead>\n",
       "    <tr style=\"text-align: right;\">\n",
       "      <th></th>\n",
       "      <th>engine_displacement</th>\n",
       "      <th>horsepower</th>\n",
       "      <th>vehicle_weight</th>\n",
       "      <th>model_year</th>\n",
       "      <th>fuel_efficiency_mpg</th>\n",
       "    </tr>\n",
       "  </thead>\n",
       "  <tbody>\n",
       "    <tr>\n",
       "      <th>0</th>\n",
       "      <td>170</td>\n",
       "      <td>159.0</td>\n",
       "      <td>3413.433759</td>\n",
       "      <td>2003</td>\n",
       "      <td>13.231729</td>\n",
       "    </tr>\n",
       "    <tr>\n",
       "      <th>1</th>\n",
       "      <td>130</td>\n",
       "      <td>97.0</td>\n",
       "      <td>3149.664934</td>\n",
       "      <td>2007</td>\n",
       "      <td>13.688217</td>\n",
       "    </tr>\n",
       "    <tr>\n",
       "      <th>2</th>\n",
       "      <td>170</td>\n",
       "      <td>78.0</td>\n",
       "      <td>3079.038997</td>\n",
       "      <td>2018</td>\n",
       "      <td>14.246341</td>\n",
       "    </tr>\n",
       "    <tr>\n",
       "      <th>3</th>\n",
       "      <td>220</td>\n",
       "      <td>NaN</td>\n",
       "      <td>2542.392402</td>\n",
       "      <td>2009</td>\n",
       "      <td>16.912736</td>\n",
       "    </tr>\n",
       "    <tr>\n",
       "      <th>4</th>\n",
       "      <td>210</td>\n",
       "      <td>140.0</td>\n",
       "      <td>3460.870990</td>\n",
       "      <td>2009</td>\n",
       "      <td>12.488369</td>\n",
       "    </tr>\n",
       "    <tr>\n",
       "      <th>5</th>\n",
       "      <td>190</td>\n",
       "      <td>NaN</td>\n",
       "      <td>2484.883986</td>\n",
       "      <td>2008</td>\n",
       "      <td>17.271818</td>\n",
       "    </tr>\n",
       "    <tr>\n",
       "      <th>6</th>\n",
       "      <td>240</td>\n",
       "      <td>127.0</td>\n",
       "      <td>3006.542287</td>\n",
       "      <td>2012</td>\n",
       "      <td>13.210412</td>\n",
       "    </tr>\n",
       "    <tr>\n",
       "      <th>7</th>\n",
       "      <td>150</td>\n",
       "      <td>239.0</td>\n",
       "      <td>3638.657780</td>\n",
       "      <td>2020</td>\n",
       "      <td>12.848884</td>\n",
       "    </tr>\n",
       "    <tr>\n",
       "      <th>8</th>\n",
       "      <td>250</td>\n",
       "      <td>174.0</td>\n",
       "      <td>2714.219310</td>\n",
       "      <td>2016</td>\n",
       "      <td>16.823554</td>\n",
       "    </tr>\n",
       "    <tr>\n",
       "      <th>9</th>\n",
       "      <td>150</td>\n",
       "      <td>123.0</td>\n",
       "      <td>3509.036569</td>\n",
       "      <td>2005</td>\n",
       "      <td>12.298355</td>\n",
       "    </tr>\n",
       "  </tbody>\n",
       "</table>\n",
       "</div>"
      ],
      "text/plain": [
       "   engine_displacement  horsepower  vehicle_weight  model_year  \\\n",
       "0                  170       159.0     3413.433759        2003   \n",
       "1                  130        97.0     3149.664934        2007   \n",
       "2                  170        78.0     3079.038997        2018   \n",
       "3                  220         NaN     2542.392402        2009   \n",
       "4                  210       140.0     3460.870990        2009   \n",
       "5                  190         NaN     2484.883986        2008   \n",
       "6                  240       127.0     3006.542287        2012   \n",
       "7                  150       239.0     3638.657780        2020   \n",
       "8                  250       174.0     2714.219310        2016   \n",
       "9                  150       123.0     3509.036569        2005   \n",
       "\n",
       "   fuel_efficiency_mpg  \n",
       "0            13.231729  \n",
       "1            13.688217  \n",
       "2            14.246341  \n",
       "3            16.912736  \n",
       "4            12.488369  \n",
       "5            17.271818  \n",
       "6            13.210412  \n",
       "7            12.848884  \n",
       "8            16.823554  \n",
       "9            12.298355  "
      ]
     },
     "execution_count": 4,
     "metadata": {},
     "output_type": "execute_result"
    }
   ],
   "source": [
    "# Display the first few rows of the filtered dataset\n",
    "print(\"First 10 rows of filtered dataset:\")\n",
    "df_filtered.head(10)\n"
   ]
  },
  {
   "cell_type": "code",
   "execution_count": 6,
   "id": "d8cd7ff3",
   "metadata": {},
   "outputs": [
    {
     "name": "stdout",
     "output_type": "stream",
     "text": [
      "Missing values in filtered dataset:\n",
      "engine_displacement      0\n",
      "horsepower             708\n",
      "vehicle_weight           0\n",
      "model_year               0\n",
      "fuel_efficiency_mpg      0\n",
      "dtype: int64\n",
      "\n",
      "Answer to Question 1:\n",
      "✗ engine_displacement has no missing values\n",
      "✓ horsepower has 708 missing values\n",
      "✗ vehicle_weight has no missing values\n",
      "✗ model_year has no missing values\n",
      "✗ fuel_efficiency_mpg has no missing values\n"
     ]
    }
   ],
   "source": [
    "# Question 1: Which column has missing values?\n",
    "\n",
    "# Check for missing values in the filtered dataset\n",
    "print(\"Missing values in filtered dataset:\")\n",
    "missing_values = df_filtered.isnull().sum()\n",
    "print(missing_values)\n",
    "\n",
    "print(\"\\nAnswer to Question 1:\")\n",
    "for col in required_columns:\n",
    "    if missing_values[col] > 0:\n",
    "        print(f\"✓ {col} has {missing_values[col]} missing values\")\n",
    "    else:\n",
    "        print(f\"✗ {col} has no missing values\")\n"
   ]
  },
  {
   "cell_type": "code",
   "execution_count": 7,
   "id": "94d77857",
   "metadata": {},
   "outputs": [
    {
     "name": "stdout",
     "output_type": "stream",
     "text": [
      "Question 2: Median horsepower\n",
      "========================================\n",
      "Median horsepower: 149.0\n",
      "\n",
      "Horsepower statistics:\n",
      "Count: 8996\n",
      "Mean: 149.66\n",
      "Median: 149.0\n",
      "Min: 37.0\n",
      "Max: 271.0\n"
     ]
    }
   ],
   "source": [
    "# Question 2: What's the median (50% percentile) for variable 'horsepower'?\n",
    "print(\"Question 2: Median horsepower\")\n",
    "print(\"=\" * 40)\n",
    "\n",
    "# Calculate the median horsepower\n",
    "median_horsepower = df_filtered['horsepower'].median()\n",
    "print(f\"Median horsepower: {median_horsepower}\")\n",
    "\n",
    "# Also show some statistics for context\n",
    "print(f\"\\nHorsepower statistics:\")\n",
    "print(f\"Count: {df_filtered['horsepower'].count()}\")\n",
    "print(f\"Mean: {df_filtered['horsepower'].mean():.2f}\")\n",
    "print(f\"Median: {median_horsepower}\")\n",
    "print(f\"Min: {df_filtered['horsepower'].min()}\")\n",
    "print(f\"Max: {df_filtered['horsepower'].max()}\")\n",
    "\n"
   ]
  },
  {
   "cell_type": "code",
   "execution_count": 8,
   "id": "8855d053",
   "metadata": {},
   "outputs": [
    {
     "name": "stdout",
     "output_type": "stream",
     "text": [
      "Question 3: Missing values handling\n",
      "==================================================\n",
      "Train set: 5824 samples\n",
      "Validation set: 1940 samples\n",
      "Test set: 1940 samples\n"
     ]
    }
   ],
   "source": [
    "# Question 3: Deal with missing values and compare RMSE\n",
    "print(\"Question 3: Missing values handling\")\n",
    "print(\"=\" * 50)\n",
    "\n",
    "# First, let's prepare the train/val/test split as mentioned in the homework\n",
    "# Shuffle the dataset with seed 42\n",
    "np.random.seed(42)\n",
    "n = len(df_filtered)\n",
    "n_val = int(n * 0.2)\n",
    "n_test = int(n * 0.2)\n",
    "n_train = n - n_val - n_test\n",
    "\n",
    "# Create shuffled indices\n",
    "idx = np.arange(n)\n",
    "np.random.shuffle(idx)\n",
    "\n",
    "# Split the data\n",
    "df_train = df_filtered.iloc[idx[:n_train]].copy()\n",
    "df_val = df_filtered.iloc[idx[n_train:n_train+n_val]].copy()\n",
    "df_test = df_filtered.iloc[idx[n_train+n_val:]].copy()\n",
    "\n",
    "# Reset indices\n",
    "df_train = df_train.reset_index(drop=True)\n",
    "df_val = df_val.reset_index(drop=True)\n",
    "df_test = df_test.reset_index(drop=True)\n",
    "\n",
    "print(f\"Train set: {len(df_train)} samples\")\n",
    "print(f\"Validation set: {len(df_val)} samples\")\n",
    "print(f\"Test set: {len(df_test)} samples\")\n"
   ]
  },
  {
   "cell_type": "code",
   "execution_count": 9,
   "id": "41433430",
   "metadata": {},
   "outputs": [],
   "source": [
    "# Define the linear regression training function (from the lessons)\n",
    "def train_linear_regression(X, y):\n",
    "    ones = np.ones(X.shape[0])\n",
    "    X = np.column_stack([ones, X])\n",
    "    \n",
    "    XTX = X.T.dot(X)\n",
    "    XTX_inv = np.linalg.inv(XTX)\n",
    "    w_full = XTX_inv.dot(X.T).dot(y)\n",
    "    \n",
    "    return w_full[0], w_full[1:]\n",
    "\n",
    "# Define RMSE function\n",
    "def rmse(y, y_pred):\n",
    "    se = (y - y_pred) ** 2\n",
    "    mse = se.mean()\n",
    "    return np.sqrt(mse)\n",
    "\n",
    "# Prepare features (excluding target variable)\n",
    "features = ['engine_displacement', 'horsepower', 'vehicle_weight', 'model_year']\n",
    "target = 'fuel_efficiency_mpg'\n",
    "\n",
    "# Get target variables\n",
    "y_train = df_train[target].values\n",
    "y_val = df_val[target].values\n"
   ]
  },
  {
   "cell_type": "code",
   "execution_count": 10,
   "id": "fe33b327",
   "metadata": {},
   "outputs": [
    {
     "name": "stdout",
     "output_type": "stream",
     "text": [
      "Option 1: Fill missing values with 0\n",
      "----------------------------------------\n",
      "RMSE (fill with 0): 0.52\n"
     ]
    }
   ],
   "source": [
    "# Option 1: Fill missing values with 0\n",
    "print(\"Option 1: Fill missing values with 0\")\n",
    "print(\"-\" * 40)\n",
    "\n",
    "# Prepare training data with 0s\n",
    "X_train_zero = df_train[features].fillna(0).values\n",
    "X_val_zero = df_val[features].fillna(0).values\n",
    "\n",
    "# Train model\n",
    "w0_zero, w_zero = train_linear_regression(X_train_zero, y_train)\n",
    "\n",
    "# Make predictions\n",
    "y_pred_zero = w0_zero + X_val_zero.dot(w_zero)\n",
    "\n",
    "# Calculate RMSE\n",
    "rmse_zero = rmse(y_val, y_pred_zero)\n",
    "print(f\"RMSE (fill with 0): {rmse_zero:.2f}\")\n"
   ]
  },
  {
   "cell_type": "code",
   "execution_count": 11,
   "id": "c4f1c65f",
   "metadata": {},
   "outputs": [
    {
     "name": "stdout",
     "output_type": "stream",
     "text": [
      "\n",
      "Option 2: Fill missing values with mean\n",
      "----------------------------------------\n",
      "Mean horsepower from training data: 149.54\n",
      "RMSE (fill with mean): 0.46\n"
     ]
    }
   ],
   "source": [
    "# Option 2: Fill missing values with mean (calculated from training data only)\n",
    "print(\"\\nOption 2: Fill missing values with mean\")\n",
    "print(\"-\" * 40)\n",
    "\n",
    "# Calculate mean from training data only (as specified in homework)\n",
    "horsepower_mean = df_train['horsepower'].mean()\n",
    "print(f\"Mean horsepower from training data: {horsepower_mean:.2f}\")\n",
    "\n",
    "# Prepare training data with mean\n",
    "X_train_mean = df_train[features].copy()\n",
    "X_train_mean['horsepower'] = X_train_mean['horsepower'].fillna(horsepower_mean)\n",
    "X_train_mean = X_train_mean.values\n",
    "\n",
    "# Prepare validation data with same mean\n",
    "X_val_mean = df_val[features].copy()\n",
    "X_val_mean['horsepower'] = X_val_mean['horsepower'].fillna(horsepower_mean)\n",
    "X_val_mean = X_val_mean.values\n",
    "\n",
    "# Train model\n",
    "w0_mean, w_mean = train_linear_regression(X_train_mean, y_train)\n",
    "\n",
    "# Make predictions\n",
    "y_pred_mean = w0_mean + X_val_mean.dot(w_mean)\n",
    "\n",
    "# Calculate RMSE\n",
    "rmse_mean = rmse(y_val, y_pred_mean)\n",
    "print(f\"RMSE (fill with mean): {rmse_mean:.2f}\")\n"
   ]
  },
  {
   "cell_type": "code",
   "execution_count": 13,
   "id": "979f4f67",
   "metadata": {},
   "outputs": [
    {
     "name": "stdout",
     "output_type": "stream",
     "text": [
      "\n",
      "Comparison:\n",
      "==============================\n",
      "RMSE with 0:     0.52\n",
      "RMSE with mean: 0.46\n",
      "\n",
      "✓ Option 2 (fill with mean) gives better RMSE\n",
      "\n",
      "Answer to Question 3: With mean\n"
     ]
    }
   ],
   "source": [
    "# Compare the results\n",
    "print(\"\\nComparison:\")\n",
    "print(\"=\" * 30)\n",
    "print(f\"RMSE with 0:     {rmse_zero:.2f}\")\n",
    "print(f\"RMSE with mean: {rmse_mean:.2f}\")\n",
    "\n",
    "if rmse_zero < rmse_mean:\n",
    "    print(\"\\n✓ Option 1 (fill with 0) gives better RMSE\")\n",
    "    answer = \"With 0\"\n",
    "elif rmse_mean < rmse_zero:\n",
    "    print(\"\\n✓ Option 2 (fill with mean) gives better RMSE\")\n",
    "    answer = \"With mean\"\n",
    "else:\n",
    "    print(\"\\n✓ Both options are equally good\")\n",
    "    answer = \"Both are equally good\"\n",
    "\n",
    "print(f\"\\nAnswer to Question 3: {answer}\")\n",
    "\n"
   ]
  },
  {
   "cell_type": "code",
   "execution_count": 15,
   "id": "d4e90b9e",
   "metadata": {},
   "outputs": [
    {
     "name": "stdout",
     "output_type": "stream",
     "text": [
      "Question 4: Regularized linear regression\n",
      "==================================================\n"
     ]
    }
   ],
   "source": [
    "# Question 4: Regularized linear regression\n",
    "print(\"Question 4: Regularized linear regression\")\n",
    "print(\"=\" * 50)\n",
    "\n",
    "# Define regularized linear regression training function\n",
    "def train_linear_regression_reg(X, y, r=0.001):\n",
    "    ones = np.ones(X.shape[0])\n",
    "    X = np.column_stack([ones, X])\n",
    "    \n",
    "    XTX = X.T.dot(X)\n",
    "    XTX = XTX + r * np.eye(XTX.shape[0])  # Add regularization\n",
    "    \n",
    "    XTX_inv = np.linalg.inv(XTX)\n",
    "    w_full = XTX_inv.dot(X.T).dot(y)\n",
    "    \n",
    "    return w_full[0], w_full[1:]\n",
    "\n",
    "# Fill missing values with 0 (as specified in question)\n",
    "X_train_reg = df_train[features].fillna(0).values\n",
    "X_val_reg = df_val[features].fillna(0).values\n",
    "\n",
    "\n"
   ]
  },
  {
   "cell_type": "code",
   "execution_count": 16,
   "id": "181b9e1c",
   "metadata": {},
   "outputs": [
    {
     "name": "stdout",
     "output_type": "stream",
     "text": [
      "r =   0.00 | RMSE = 0.52\n",
      "r =   0.01 | RMSE = 0.52\n",
      "r =   0.10 | RMSE = 0.52\n",
      "r =   1.00 | RMSE = 0.52\n",
      "r =   5.00 | RMSE = 0.52\n",
      "r =  10.00 | RMSE = 0.52\n",
      "r = 100.00 | RMSE = 0.52\n",
      "\n",
      "Best regularization parameter:\n",
      "r = 0.01 gives RMSE = 0.52\n"
     ]
    }
   ],
   "source": [
    "# Test different values of r\n",
    "r_values = [0, 0.01, 0.1, 1, 5, 10, 100]\n",
    "rmse_scores = []\n",
    "\n",
    "for r in r_values:\n",
    "    # Train model with regularization\n",
    "    w0, w = train_linear_regression_reg(X_train_reg, y_train, r=r)\n",
    "    \n",
    "    # Make predictions\n",
    "    y_pred = w0 + X_val_reg.dot(w)\n",
    "    \n",
    "    # Calculate RMSE\n",
    "    score = rmse(y_val, y_pred)\n",
    "    rmse_scores.append(score)\n",
    "    \n",
    "    print(f\"r = {r:6.2f} | RMSE = {score:.2f}\")\n",
    "\n",
    "# Find the best r (lowest RMSE)\n",
    "best_idx = np.argmin(rmse_scores)\n",
    "best_r = r_values[best_idx]\n",
    "best_rmse = rmse_scores[best_idx]\n",
    "\n",
    "print(f\"\\nBest regularization parameter:\")\n",
    "print(f\"r = {best_r} gives RMSE = {best_rmse:.2f}\")\n"
   ]
  },
  {
   "cell_type": "code",
   "execution_count": 17,
   "id": "38e794cb",
   "metadata": {},
   "outputs": [
    {
     "name": "stdout",
     "output_type": "stream",
     "text": [
      "\n",
      "Answer to Question 4: 0.01\n",
      "✓ 0.01 is one of the homework options\n"
     ]
    }
   ],
   "source": [
    "\n",
    "\n",
    "print(f\"\\nAnswer to Question 4: {best_r}\")\n",
    "\n",
    "# If there are multiple options with the same RMSE, select the smallest r\n",
    "# (This is handled by the order in r_values and argmin selecting the first occurrence)\n",
    "if best_r in [0, 0.01, 1, 10, 100]:\n",
    "    print(f\"✓ {best_r} is one of the homework options\")\n",
    "else:\n",
    "    print(f\"⚠ {best_r} is not in the homework options - select the closest one\")\n"
   ]
  },
  {
   "cell_type": "code",
   "execution_count": 18,
   "id": "e47f4e89",
   "metadata": {},
   "outputs": [
    {
     "name": "stdout",
     "output_type": "stream",
     "text": [
      "Question 5: Testing different seed values\n",
      "==================================================\n",
      "Testing different seeds...\n",
      "------------------------------\n",
      "Seed  0: RMSE = 0.521\n",
      "Seed  1: RMSE = 0.521\n",
      "Seed  2: RMSE = 0.523\n",
      "Seed  3: RMSE = 0.516\n",
      "Seed  4: RMSE = 0.511\n",
      "Seed  5: RMSE = 0.528\n",
      "Seed  6: RMSE = 0.531\n",
      "Seed  7: RMSE = 0.509\n",
      "Seed  8: RMSE = 0.515\n",
      "Seed  9: RMSE = 0.513\n",
      "\n",
      "RMSE scores for all seeds: [np.float64(0.521), np.float64(0.521), np.float64(0.523), np.float64(0.516), np.float64(0.511), np.float64(0.528), np.float64(0.531), np.float64(0.509), np.float64(0.515), np.float64(0.513)]\n"
     ]
    }
   ],
   "source": [
    "# Question 5: Testing different seed values\n",
    "print(\"Question 5: Testing different seed values\")\n",
    "print(\"=\" * 50)\n",
    "\n",
    "# Test different seed values\n",
    "seeds = [0, 1, 2, 3, 4, 5, 6, 7, 8, 9]\n",
    "rmse_scores_seeds = []\n",
    "\n",
    "print(\"Testing different seeds...\")\n",
    "print(\"-\" * 30)\n",
    "\n",
    "for seed in seeds:\n",
    "    # Set the seed\n",
    "    np.random.seed(seed)\n",
    "    \n",
    "    # Split the data with this seed\n",
    "    n = len(df_filtered)\n",
    "    n_val = int(n * 0.2)\n",
    "    n_test = int(n * 0.2)\n",
    "    n_train = n - n_val - n_test\n",
    "    \n",
    "    # Create shuffled indices\n",
    "    idx = np.arange(n)\n",
    "    np.random.shuffle(idx)\n",
    "    \n",
    "    # Split the data\n",
    "    df_train_seed = df_filtered.iloc[idx[:n_train]].copy()\n",
    "    df_val_seed = df_filtered.iloc[idx[n_train:n_train+n_val]].copy()\n",
    "    \n",
    "    # Reset indices\n",
    "    df_train_seed = df_train_seed.reset_index(drop=True)\n",
    "    df_val_seed = df_val_seed.reset_index(drop=True)\n",
    "    \n",
    "    # Prepare data (fill missing values with 0)\n",
    "    X_train_seed = df_train_seed[features].fillna(0).values\n",
    "    X_val_seed = df_val_seed[features].fillna(0).values\n",
    "    y_train_seed = df_train_seed[target].values\n",
    "    y_val_seed = df_val_seed[target].values\n",
    "    \n",
    "    # Train model without regularization\n",
    "    w0, w = train_linear_regression(X_train_seed, y_train_seed)\n",
    "    \n",
    "    # Make predictions\n",
    "    y_pred_seed = w0 + X_val_seed.dot(w)\n",
    "    \n",
    "    # Calculate RMSE\n",
    "    score = rmse(y_val_seed, y_pred_seed)\n",
    "    rmse_scores_seeds.append(score)\n",
    "    \n",
    "    print(f\"Seed {seed:2d}: RMSE = {score:.3f}\")\n",
    "\n",
    "print(f\"\\nRMSE scores for all seeds: {[round(score, 3) for score in rmse_scores_seeds]}\")\n"
   ]
  },
  {
   "cell_type": "code",
   "execution_count": 19,
   "id": "e45202cb",
   "metadata": {},
   "outputs": [
    {
     "name": "stdout",
     "output_type": "stream",
     "text": [
      "\n",
      "Standard deviation of RMSE scores: 0.007\n",
      "\n",
      "Closest option to 0.007: 0.006\n",
      "\n",
      "Answer to Question 5: 0.006\n"
     ]
    }
   ],
   "source": [
    "# Calculate standard deviation\n",
    "std_rmse = np.std(rmse_scores_seeds)\n",
    "print(f\"\\nStandard deviation of RMSE scores: {std_rmse:.3f}\")\n",
    "\n",
    "# Find the closest option\n",
    "options = [0.001, 0.006, 0.060, 0.600]\n",
    "closest_option = min(options, key=lambda x: abs(x - std_rmse))\n",
    "print(f\"\\nClosest option to {std_rmse:.3f}: {closest_option}\")\n",
    "\n",
    "print(f\"\\nAnswer to Question 5: {closest_option}\")\n"
   ]
  },
  {
   "cell_type": "code",
   "execution_count": 20,
   "id": "ebd73997",
   "metadata": {},
   "outputs": [
    {
     "name": "stdout",
     "output_type": "stream",
     "text": [
      "Question 6: Final model on test dataset\n",
      "==================================================\n",
      "Train set: 5824 samples\n",
      "Validation set: 1940 samples\n",
      "Test set: 1940 samples\n"
     ]
    }
   ],
   "source": [
    "# Question 6: Final model training and testing\n",
    "print(\"Question 6: Final model on test dataset\")\n",
    "print(\"=\" * 50)\n",
    "\n",
    "# Split the dataset with seed 9 (as specified)\n",
    "np.random.seed(9)\n",
    "n = len(df_filtered)\n",
    "n_val = int(n * 0.2)\n",
    "n_test = int(n * 0.2)\n",
    "n_train = n - n_val - n_test\n",
    "\n",
    "# Create shuffled indices\n",
    "idx = np.arange(n)\n",
    "np.random.shuffle(idx)\n",
    "\n",
    "# Split the data\n",
    "df_train_final = df_filtered.iloc[idx[:n_train]].copy()\n",
    "df_val_final = df_filtered.iloc[idx[n_train:n_train+n_val]].copy()\n",
    "df_test_final = df_filtered.iloc[idx[n_train+n_val:]].copy()\n",
    "\n",
    "# Reset indices\n",
    "df_train_final = df_train_final.reset_index(drop=True)\n",
    "df_val_final = df_val_final.reset_index(drop=True)\n",
    "df_test_final = df_test_final.reset_index(drop=True)\n",
    "\n",
    "print(f\"Train set: {len(df_train_final)} samples\")\n",
    "print(f\"Validation set: {len(df_val_final)} samples\")\n",
    "print(f\"Test set: {len(df_test_final)} samples\")\n"
   ]
  },
  {
   "cell_type": "code",
   "execution_count": 21,
   "id": "99dca1cf",
   "metadata": {},
   "outputs": [
    {
     "name": "stdout",
     "output_type": "stream",
     "text": [
      "Combining train and validation datasets...\n",
      "Combined train+val set: 7764 samples\n",
      "Training final model with r=0.001...\n"
     ]
    }
   ],
   "source": [
    "# Combine train and validation datasets\n",
    "print(\"Combining train and validation datasets...\")\n",
    "df_full_train = pd.concat([df_train_final, df_val_final])\n",
    "df_full_train = df_full_train.reset_index(drop=True)\n",
    "\n",
    "print(f\"Combined train+val set: {len(df_full_train)} samples\")\n",
    "\n",
    "# Prepare the combined training data\n",
    "X_full_train = df_full_train[features].fillna(0).values\n",
    "y_full_train = df_full_train[target].values\n",
    "\n",
    "# Prepare test data\n",
    "X_test_final = df_test_final[features].fillna(0).values\n",
    "y_test_final = df_test_final[target].values\n",
    "\n",
    "print(\"Training final model with r=0.001...\")\n"
   ]
  },
  {
   "cell_type": "code",
   "execution_count": 22,
   "id": "4f69f076",
   "metadata": {},
   "outputs": [
    {
     "name": "stdout",
     "output_type": "stream",
     "text": [
      "RMSE on test dataset: 0.516\n",
      "\n",
      "Closest option to 0.516: 0.515\n",
      "\n",
      "Answer to Question 6: 0.515\n"
     ]
    }
   ],
   "source": [
    "# Train the final model with r=0.001\n",
    "w0_final, w_final = train_linear_regression_reg(X_full_train, y_full_train, r=0.001)\n",
    "\n",
    "# Make predictions on test set\n",
    "y_pred_test = w0_final + X_test_final.dot(w_final)\n",
    "\n",
    "# Calculate RMSE on test set\n",
    "rmse_test = rmse(y_test_final, y_pred_test)\n",
    "\n",
    "print(f\"RMSE on test dataset: {rmse_test:.3f}\")\n",
    "\n",
    "# Find the closest option\n",
    "options = [0.15, 0.515, 5.15, 51.5]\n",
    "closest_option = min(options, key=lambda x: abs(x - rmse_test))\n",
    "print(f\"\\nClosest option to {rmse_test:.3f}: {closest_option}\")\n",
    "\n",
    "print(f\"\\nAnswer to Question 6: {closest_option}\")\n"
   ]
  }
 ],
 "metadata": {
  "kernelspec": {
   "display_name": "venv",
   "language": "python",
   "name": "python3"
  },
  "language_info": {
   "codemirror_mode": {
    "name": "ipython",
    "version": 3
   },
   "file_extension": ".py",
   "mimetype": "text/x-python",
   "name": "python",
   "nbconvert_exporter": "python",
   "pygments_lexer": "ipython3",
   "version": "3.10.0"
  }
 },
 "nbformat": 4,
 "nbformat_minor": 5
}
