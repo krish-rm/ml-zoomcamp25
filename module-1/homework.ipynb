{
 "cells": [
  {
   "cell_type": "code",
   "execution_count": 1,
   "id": "66537576",
   "metadata": {},
   "outputs": [
    {
     "name": "stdout",
     "output_type": "stream",
     "text": [
      "2.3.2\n"
     ]
    }
   ],
   "source": [
    "import pandas as pd\n",
    "print(pd.__version__)"
   ]
  },
  {
   "cell_type": "code",
   "execution_count": 3,
   "id": "626ca965",
   "metadata": {},
   "outputs": [
    {
     "name": "stdout",
     "output_type": "stream",
     "text": [
      "Number of records in the dataset: 9704\n"
     ]
    }
   ],
   "source": [
    "# Q2: Records count\n",
    "# Read the dataset\n",
    "df = pd.read_csv('car_fuel_efficiency.csv')\n",
    "\n",
    "# Count the number of records\n",
    "num_records = len(df)\n",
    "print(f\"Number of records in the dataset: {num_records}\")\n",
    "\n"
   ]
  },
  {
   "cell_type": "code",
   "execution_count": 7,
   "id": "0467305f",
   "metadata": {},
   "outputs": [
    {
     "name": "stdout",
     "output_type": "stream",
     "text": [
      "Number of fuel types in the dataset: 2\n",
      "Unique fuel types: ['Gasoline' 'Diesel']\n"
     ]
    }
   ],
   "source": [
    "# Q3: Fuel types\n",
    "# Count the number of unique fuel types\n",
    "fuel_types = df['fuel_type'].nunique()\n",
    "print(f\"Number of fuel types in the dataset: {fuel_types}\")\n",
    "\n",
    "# Show the unique fuel types\n",
    "print(f\"Unique fuel types: {df['fuel_type'].unique()}\")\n",
    "\n"
   ]
  },
  {
   "cell_type": "code",
   "execution_count": 8,
   "id": "d221ad10",
   "metadata": {},
   "outputs": [
    {
     "name": "stdout",
     "output_type": "stream",
     "text": [
      "Missing values per column:\n",
      "engine_displacement      0\n",
      "num_cylinders          482\n",
      "horsepower             708\n",
      "vehicle_weight           0\n",
      "acceleration           930\n",
      "model_year               0\n",
      "origin                   0\n",
      "fuel_type                0\n",
      "drivetrain               0\n",
      "num_doors              502\n",
      "fuel_efficiency_mpg      0\n",
      "dtype: int64\n",
      "\n",
      "Number of columns with missing values: 4\n"
     ]
    }
   ],
   "source": [
    "# Q4: Missing values\n",
    "# Check for missing values in each column\n",
    "missing_values = df.isnull().sum()\n",
    "print(\"Missing values per column:\")\n",
    "print(missing_values)\n",
    "\n",
    "# Count how many columns have missing values\n",
    "columns_with_missing = (missing_values > 0).sum()\n",
    "print(f\"\\nNumber of columns with missing values: {columns_with_missing}\")\n",
    "\n"
   ]
  },
  {
   "cell_type": "code",
   "execution_count": 9,
   "id": "d4b89817",
   "metadata": {},
   "outputs": [
    {
     "name": "stdout",
     "output_type": "stream",
     "text": [
      "Maximum fuel efficiency of cars from Asia: 23.759122836520497\n",
      "Number of Asian cars in dataset: 3247\n",
      "Fuel efficiency range for Asian cars: 6.886244726750004 - 23.759122836520497\n"
     ]
    }
   ],
   "source": [
    "# Q5: Max fuel efficiency of cars from Asia\n",
    "# Filter cars from Asia\n",
    "asia_cars = df[df['origin'] == 'Asia']\n",
    "\n",
    "# Find the maximum fuel efficiency for Asian cars\n",
    "max_fuel_efficiency = asia_cars['fuel_efficiency_mpg'].max()\n",
    "print(f\"Maximum fuel efficiency of cars from Asia: {max_fuel_efficiency}\")\n",
    "\n",
    "# Show some additional info\n",
    "print(f\"Number of Asian cars in dataset: {len(asia_cars)}\")\n",
    "print(f\"Fuel efficiency range for Asian cars: {asia_cars['fuel_efficiency_mpg'].min()} - {asia_cars['fuel_efficiency_mpg'].max()}\")\n",
    "\n",
    "\n"
   ]
  },
  {
   "cell_type": "code",
   "execution_count": 11,
   "id": "b6b01267",
   "metadata": {},
   "outputs": [
    {
     "name": "stdout",
     "output_type": "stream",
     "text": [
      "Step 1 - Median horsepower before filling missing values: 149.0\n",
      "Step 2 - Most frequent horsepower value: 152.0\n",
      "Step 4 - Median horsepower after filling missing values: 152.0\n",
      "\n",
      "Has the median changed? Yes, it increased\n"
     ]
    }
   ],
   "source": [
    "# Q6: Median value of horsepower\n",
    "import numpy as np\n",
    "\n",
    "# Step 1: Find the median value of the horsepower column\n",
    "median_horsepower_before = df['horsepower'].median()\n",
    "print(f\"Step 1 - Median horsepower before filling missing values: {median_horsepower_before}\")\n",
    "\n",
    "# Step 2: Calculate the most frequent value of horsepower\n",
    "most_frequent_horsepower = df['horsepower'].mode()[0]\n",
    "print(f\"Step 2 - Most frequent horsepower value: {most_frequent_horsepower}\")\n",
    "\n",
    "# Step 3: Fill missing values with the most frequent value\n",
    "df_filled = df.copy()\n",
    "df_filled['horsepower'] = df_filled['horsepower'].fillna(most_frequent_horsepower)\n",
    "\n",
    "# Step 4: Calculate the median value of horsepower once again\n",
    "median_horsepower_after = df_filled['horsepower'].median()\n",
    "print(f\"Step 4 - Median horsepower after filling missing values: {median_horsepower_after}\")\n",
    "\n",
    "# Check if it changed\n",
    "if median_horsepower_before != median_horsepower_after:\n",
    "    if median_horsepower_after > median_horsepower_before:\n",
    "        change = \"Yes, it increased\"\n",
    "    else:\n",
    "        change = \"Yes, it decreased\"\n",
    "else:\n",
    "    change = \"No\"\n",
    "\n",
    "print(f\"\\nHas the median changed? {change}\")\n",
    "\n"
   ]
  },
  {
   "cell_type": "code",
   "execution_count": 12,
   "id": "02064a61",
   "metadata": {},
   "outputs": [
    {
     "name": "stdout",
     "output_type": "stream",
     "text": [
      "Step 4 - Matrix X (first 7 Asian cars, vehicle_weight and model_year):\n",
      "[[2714.21930965 2016.        ]\n",
      " [2783.86897424 2010.        ]\n",
      " [3582.68736772 2007.        ]\n",
      " [2231.8081416  2011.        ]\n",
      " [2659.43145076 2016.        ]\n",
      " [2844.22753389 2014.        ]\n",
      " [3761.99403819 2019.        ]]\n",
      "\n",
      "Step 5 - XTX (X transpose times X):\n",
      "[[62248334.33150762 41431216.5073268 ]\n",
      " [41431216.5073268  28373339.        ]]\n",
      "\n",
      "Step 6 - Inverse of XTX:\n",
      "[[ 5.71497081e-07 -8.34509443e-07]\n",
      " [-8.34509443e-07  1.25380877e-06]]\n",
      "\n",
      "Step 7 - Array y: [1100 1300  800  900 1000 1100 1200]\n",
      "\n",
      "Step 8 - Weights w: [0.01386421 0.5049067 ]\n",
      "\n",
      "Step 9 - Sum of all elements of w: 0.5187709081074016\n"
     ]
    }
   ],
   "source": [
    "# Q7: Sum of weights (Linear Regression Implementation)\n",
    "import numpy as np\n",
    "\n",
    "# Step 1: Select all the cars from Asia\n",
    "asia_cars = df[df['origin'] == 'Asia']\n",
    "\n",
    "# Step 2: Select only columns vehicle_weight and model_year\n",
    "selected_data = asia_cars[['vehicle_weight', 'model_year']]\n",
    "\n",
    "# Step 3: Select the first 7 values\n",
    "X_data = selected_data.head(7)\n",
    "\n",
    "# Step 4: Get the underlying NumPy array. Let's call it X.\n",
    "X = X_data.values\n",
    "print(\"Step 4 - Matrix X (first 7 Asian cars, vehicle_weight and model_year):\")\n",
    "print(X)\n",
    "\n",
    "# Step 5: Compute matrix-matrix multiplication between the transpose of X and X\n",
    "XTX = X.T @ X\n",
    "print(f\"\\nStep 5 - XTX (X transpose times X):\")\n",
    "print(XTX)\n",
    "\n",
    "# Step 6: Invert XTX\n",
    "XTX_inv = np.linalg.inv(XTX)\n",
    "print(f\"\\nStep 6 - Inverse of XTX:\")\n",
    "print(XTX_inv)\n",
    "\n",
    "# Step 7: Create an array y with values [1100, 1300, 800, 900, 1000, 1100, 1200]\n",
    "y = np.array([1100, 1300, 800, 900, 1000, 1100, 1200])\n",
    "print(f\"\\nStep 7 - Array y: {y}\")\n",
    "\n",
    "# Step 8: Multiply the inverse of XTX with the transpose of X, and then multiply the result by y\n",
    "w = XTX_inv @ X.T @ y\n",
    "print(f\"\\nStep 8 - Weights w: {w}\")\n",
    "\n",
    "# Step 9: What's the sum of all the elements of the result?\n",
    "sum_of_weights = np.sum(w)\n",
    "print(f\"\\nStep 9 - Sum of all elements of w: {sum_of_weights}\")\n",
    "\n",
    "\n"
   ]
  }
 ],
 "metadata": {
  "kernelspec": {
   "display_name": "venv",
   "language": "python",
   "name": "python3"
  },
  "language_info": {
   "codemirror_mode": {
    "name": "ipython",
    "version": 3
   },
   "file_extension": ".py",
   "mimetype": "text/x-python",
   "name": "python",
   "nbconvert_exporter": "python",
   "pygments_lexer": "ipython3",
   "version": "3.10.0"
  }
 },
 "nbformat": 4,
 "nbformat_minor": 5
}
